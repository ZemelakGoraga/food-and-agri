{
 "cells": [
  {
   "cell_type": "code",
   "execution_count": 1,
   "id": "initial_id",
   "metadata": {
    "collapsed": true,
    "ExecuteTime": {
     "end_time": "2023-09-05T22:16:44.654198900Z",
     "start_time": "2023-09-05T22:16:44.243724500Z"
    }
   },
   "outputs": [
    {
     "name": "stdout",
     "output_type": "stream",
     "text": [
      "Welcome to the Fiber Optic Cable Installation Cost Calculator!\n"
     ]
    }
   ],
   "source": [
    "# DSC 510\n",
    "# Week 2\n",
    "# Programming Assignment Week 2\n",
    "# Purpose: Calculate the total installation cost of fiber optic cable\n",
    "# Author Zemelak Goraga\n",
    "# 9/5/2023\n",
    "# Display a welcome message for the user.\n",
    "print(\"Welcome to the Fiber Optic Cable Installation Cost Calculator!\")\n"
   ]
  },
  {
   "cell_type": "code",
   "execution_count": 2,
   "outputs": [],
   "source": [
    "\n",
    "# Retrieve the company name from the user.Give 'Optic plc' as an input\n",
    "company_name = input(\"Please enter your company name: \")\n"
   ],
   "metadata": {
    "collapsed": false,
    "ExecuteTime": {
     "end_time": "2023-09-05T22:17:03.954806Z",
     "start_time": "2023-09-05T22:16:55.413231500Z"
    }
   },
   "id": "896a862f0ad66a19"
  },
  {
   "cell_type": "code",
   "execution_count": 3,
   "outputs": [],
   "source": [
    "\n",
    "# Retrieve the number of feet of fiber optic cable to be installed from the user.Give 200.75 as an input\n",
    "feet_required = float(input(\"Enter the number of feet of fiber optic cable to be installed: \"))"
   ],
   "metadata": {
    "collapsed": false,
    "ExecuteTime": {
     "end_time": "2023-09-05T22:17:22.671755600Z",
     "start_time": "2023-09-05T22:17:14.665765700Z"
    }
   },
   "id": "c1b023fa54c2c1ce"
  },
  {
   "cell_type": "code",
   "execution_count": 4,
   "outputs": [
    {
     "name": "stdout",
     "output_type": "stream",
     "text": [
      "\n",
      "Receipt for Optic plc\n",
      "Number of feet of fiber optic cable to be installed: 200.75 feet\n",
      "Total installation cost: $ 174.65\n"
     ]
    }
   ],
   "source": [
    "\n",
    "# Calculate the installation cost of fiber optic cable.\n",
    "cost_per_foot = 0.87\n",
    "total_cost = feet_required * cost_per_foot\n",
    "# Print a receipt for the user\n",
    "print(\"\\nReceipt for\", company_name)\n",
    "print(\"Number of feet of fiber optic cable to be installed:\", feet_required, \"feet\")\n",
    "print(\"Total installation cost: $\", format(total_cost, \".2f\"))"
   ],
   "metadata": {
    "collapsed": false,
    "ExecuteTime": {
     "end_time": "2023-09-05T22:17:27.234723600Z",
     "start_time": "2023-09-05T22:17:27.070098300Z"
    }
   },
   "id": "21c7fc4e9e7bcebf"
  },
  {
   "cell_type": "code",
   "execution_count": null,
   "outputs": [],
   "source": [],
   "metadata": {
    "collapsed": false
   },
   "id": "f4465d15bf94ee2e"
  }
 ],
 "metadata": {
  "kernelspec": {
   "display_name": "Python 3",
   "language": "python",
   "name": "python3"
  },
  "language_info": {
   "codemirror_mode": {
    "name": "ipython",
    "version": 2
   },
   "file_extension": ".py",
   "mimetype": "text/x-python",
   "name": "python",
   "nbconvert_exporter": "python",
   "pygments_lexer": "ipython2",
   "version": "2.7.6"
  }
 },
 "nbformat": 4,
 "nbformat_minor": 5
}
